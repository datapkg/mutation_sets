{
 "cells": [
  {
   "cell_type": "markdown",
   "metadata": {},
   "source": [
    "# Summary\n",
    "\n",
    "\n",
    "----"
   ]
  },
  {
   "cell_type": "markdown",
   "metadata": {},
   "source": [
    "# Imports"
   ]
  },
  {
   "cell_type": "code",
   "execution_count": 27,
   "metadata": {
    "collapsed": false
   },
   "outputs": [
    {
     "name": "stdout",
     "output_type": "stream",
     "text": [
      "The autoreload extension is already loaded. To reload it, use:\n",
      "  %reload_ext autoreload\n",
      "2016-08-25 22:46:19.583880\n"
     ]
    }
   ],
   "source": [
    "%run imports.ipynb"
   ]
  },
  {
   "cell_type": "code",
   "execution_count": 32,
   "metadata": {
    "collapsed": false
   },
   "outputs": [
    {
     "name": "stderr",
     "output_type": "stream",
     "text": [
      "MySQL database already running...\n"
     ]
    },
    {
     "name": "stdout",
     "output_type": "stream",
     "text": [
      "The autoreload extension is already loaded. To reload it, use:\n",
      "  %reload_ext autoreload\n",
      "2016-08-25 22:46:27.094379\n"
     ]
    }
   ],
   "source": [
    "%run db.ipynb"
   ]
  },
  {
   "cell_type": "code",
   "execution_count": 33,
   "metadata": {
    "collapsed": false,
    "scrolled": true
   },
   "outputs": [],
   "source": [
    "NOTEBOOK_NAME = 'cosmic'\n",
    "os.makedirs(NOTEBOOK_NAME, exist_ok=True)"
   ]
  },
  {
   "cell_type": "markdown",
   "metadata": {
    "collapsed": true
   },
   "source": [
    "# Export from remote db"
   ]
  },
  {
   "cell_type": "code",
   "execution_count": 56,
   "metadata": {
    "collapsed": true
   },
   "outputs": [],
   "source": [
    "DB_URL = kmtools.db_tools.parse_connection_string(db_remote.connection_string)['db_url']"
   ]
  },
  {
   "cell_type": "code",
   "execution_count": 57,
   "metadata": {
    "code_folding": [
     0
    ],
    "collapsed": false
   },
   "outputs": [
    {
     "data": {
      "text/html": [
       "<style type=\"text/css\">.highlight .hll { background-color: #ffffcc }\n",
       ".highlight  { background: #f8f8f8; }\n",
       ".highlight .c { color: #408080; font-style: italic } /* Comment */\n",
       ".highlight .err { border: 1px solid #FF0000 } /* Error */\n",
       ".highlight .k { color: #008000; font-weight: bold } /* Keyword */\n",
       ".highlight .o { color: #666666 } /* Operator */\n",
       ".highlight .ch { color: #408080; font-style: italic } /* Comment.Hashbang */\n",
       ".highlight .cm { color: #408080; font-style: italic } /* Comment.Multiline */\n",
       ".highlight .cp { color: #BC7A00 } /* Comment.Preproc */\n",
       ".highlight .cpf { color: #408080; font-style: italic } /* Comment.PreprocFile */\n",
       ".highlight .c1 { color: #408080; font-style: italic } /* Comment.Single */\n",
       ".highlight .cs { color: #408080; font-style: italic } /* Comment.Special */\n",
       ".highlight .gd { color: #A00000 } /* Generic.Deleted */\n",
       ".highlight .ge { font-style: italic } /* Generic.Emph */\n",
       ".highlight .gr { color: #FF0000 } /* Generic.Error */\n",
       ".highlight .gh { color: #000080; font-weight: bold } /* Generic.Heading */\n",
       ".highlight .gi { color: #00A000 } /* Generic.Inserted */\n",
       ".highlight .go { color: #888888 } /* Generic.Output */\n",
       ".highlight .gp { color: #000080; font-weight: bold } /* Generic.Prompt */\n",
       ".highlight .gs { font-weight: bold } /* Generic.Strong */\n",
       ".highlight .gu { color: #800080; font-weight: bold } /* Generic.Subheading */\n",
       ".highlight .gt { color: #0044DD } /* Generic.Traceback */\n",
       ".highlight .kc { color: #008000; font-weight: bold } /* Keyword.Constant */\n",
       ".highlight .kd { color: #008000; font-weight: bold } /* Keyword.Declaration */\n",
       ".highlight .kn { color: #008000; font-weight: bold } /* Keyword.Namespace */\n",
       ".highlight .kp { color: #008000 } /* Keyword.Pseudo */\n",
       ".highlight .kr { color: #008000; font-weight: bold } /* Keyword.Reserved */\n",
       ".highlight .kt { color: #B00040 } /* Keyword.Type */\n",
       ".highlight .m { color: #666666 } /* Literal.Number */\n",
       ".highlight .s { color: #BA2121 } /* Literal.String */\n",
       ".highlight .na { color: #7D9029 } /* Name.Attribute */\n",
       ".highlight .nb { color: #008000 } /* Name.Builtin */\n",
       ".highlight .nc { color: #0000FF; font-weight: bold } /* Name.Class */\n",
       ".highlight .no { color: #880000 } /* Name.Constant */\n",
       ".highlight .nd { color: #AA22FF } /* Name.Decorator */\n",
       ".highlight .ni { color: #999999; font-weight: bold } /* Name.Entity */\n",
       ".highlight .ne { color: #D2413A; font-weight: bold } /* Name.Exception */\n",
       ".highlight .nf { color: #0000FF } /* Name.Function */\n",
       ".highlight .nl { color: #A0A000 } /* Name.Label */\n",
       ".highlight .nn { color: #0000FF; font-weight: bold } /* Name.Namespace */\n",
       ".highlight .nt { color: #008000; font-weight: bold } /* Name.Tag */\n",
       ".highlight .nv { color: #19177C } /* Name.Variable */\n",
       ".highlight .ow { color: #AA22FF; font-weight: bold } /* Operator.Word */\n",
       ".highlight .w { color: #bbbbbb } /* Text.Whitespace */\n",
       ".highlight .mb { color: #666666 } /* Literal.Number.Bin */\n",
       ".highlight .mf { color: #666666 } /* Literal.Number.Float */\n",
       ".highlight .mh { color: #666666 } /* Literal.Number.Hex */\n",
       ".highlight .mi { color: #666666 } /* Literal.Number.Integer */\n",
       ".highlight .mo { color: #666666 } /* Literal.Number.Oct */\n",
       ".highlight .sb { color: #BA2121 } /* Literal.String.Backtick */\n",
       ".highlight .sc { color: #BA2121 } /* Literal.String.Char */\n",
       ".highlight .sd { color: #BA2121; font-style: italic } /* Literal.String.Doc */\n",
       ".highlight .s2 { color: #BA2121 } /* Literal.String.Double */\n",
       ".highlight .se { color: #BB6622; font-weight: bold } /* Literal.String.Escape */\n",
       ".highlight .sh { color: #BA2121 } /* Literal.String.Heredoc */\n",
       ".highlight .si { color: #BB6688; font-weight: bold } /* Literal.String.Interpol */\n",
       ".highlight .sx { color: #008000 } /* Literal.String.Other */\n",
       ".highlight .sr { color: #BB6688 } /* Literal.String.Regex */\n",
       ".highlight .s1 { color: #BA2121 } /* Literal.String.Single */\n",
       ".highlight .ss { color: #19177C } /* Literal.String.Symbol */\n",
       ".highlight .bp { color: #008000 } /* Name.Builtin.Pseudo */\n",
       ".highlight .vc { color: #19177C } /* Name.Variable.Class */\n",
       ".highlight .vg { color: #19177C } /* Name.Variable.Global */\n",
       ".highlight .vi { color: #19177C } /* Name.Variable.Instance */\n",
       ".highlight .il { color: #666666 } /* Literal.Number.Integer.Long */</style><div class=\"highlight\"><pre><span></span><span class=\"k\">SELECT</span> \n",
       "    <span class=\"n\">us</span><span class=\"p\">.</span><span class=\"n\">uniprot_acc</span><span class=\"p\">,</span>\n",
       "    <span class=\"n\">v</span><span class=\"p\">.</span><span class=\"n\">mutationassessor_variant</span> <span class=\"n\">mutation</span><span class=\"p\">,</span>\n",
       "    <span class=\"k\">NULL</span> <span class=\"n\">ddg_exp</span><span class=\"p\">,</span>\n",
       "    <span class=\"n\">cme</span><span class=\"p\">.</span><span class=\"n\">fathmm_score</span> <span class=\"n\">del_score_exp</span><span class=\"p\">,</span>\n",
       "    <span class=\"k\">CASE</span> <span class=\"n\">cme</span><span class=\"p\">.</span><span class=\"n\">fathmm_prediction</span> <span class=\"k\">WHEN</span> <span class=\"s1\">&#39;NEUTRAL&#39;</span> <span class=\"k\">THEN</span> <span class=\"mi\">0</span> <span class=\"k\">WHEN</span> <span class=\"s1\">&#39;PATHOGENIC&#39;</span> <span class=\"k\">THEN</span> <span class=\"mi\">1</span> <span class=\"k\">ELSE</span> <span class=\"k\">NULL</span> <span class=\"k\">END</span> <span class=\"n\">del_class_exp</span>\n",
       "<span class=\"k\">INTO</span> <span class=\"n\">OUTFILE</span> <span class=\"s1\">&#39;/tmp/cosmic.tsv&#39;</span> \n",
       "    <span class=\"n\">FIELDS</span> <span class=\"n\">TERMINATED</span> <span class=\"k\">BY</span> <span class=\"s1\">&#39;\\t&#39;</span> <span class=\"n\">OPTIONALLY</span> <span class=\"n\">ENCLOSED</span> <span class=\"k\">BY</span> <span class=\"s1\">&#39;&quot;&#39;</span>\n",
       "    <span class=\"n\">LINES</span> <span class=\"n\">TERMINATED</span> <span class=\"k\">BY</span> <span class=\"s1\">&#39;\\n&#39;</span>\n",
       "<span class=\"k\">FROM</span> <span class=\"n\">cosmic_new</span><span class=\"p\">.</span><span class=\"n\">cosmic_coding_muts</span> <span class=\"n\">ccm</span> \n",
       "<span class=\"k\">JOIN</span> <span class=\"n\">cosmic_new</span><span class=\"p\">.</span><span class=\"n\">cosmic_mutant_export</span> <span class=\"n\">cme</span> <span class=\"k\">ON</span> <span class=\"p\">(</span><span class=\"n\">cme</span><span class=\"p\">.</span><span class=\"n\">mutation_id</span> <span class=\"o\">=</span> <span class=\"n\">ccm</span><span class=\"p\">.</span><span class=\"n\">id</span><span class=\"p\">)</span>\n",
       "<span class=\"k\">JOIN</span> <span class=\"n\">dbnsfp</span><span class=\"p\">.</span><span class=\"n\">variant</span> <span class=\"n\">v</span> <span class=\"k\">ON</span> <span class=\"p\">(</span><span class=\"n\">ccm</span><span class=\"p\">.</span><span class=\"n\">chrom</span> <span class=\"o\">=</span> <span class=\"n\">v</span><span class=\"p\">.</span><span class=\"n\">chr</span> <span class=\"k\">AND</span> <span class=\"n\">ccm</span><span class=\"p\">.</span><span class=\"n\">pos</span> <span class=\"o\">=</span> <span class=\"n\">v</span><span class=\"p\">.</span><span class=\"n\">pos_1based</span> <span class=\"k\">AND</span> <span class=\"n\">ccm</span><span class=\"p\">.</span><span class=\"k\">ref</span> <span class=\"o\">=</span> <span class=\"n\">v</span><span class=\"p\">.</span><span class=\"k\">ref</span> <span class=\"k\">AND</span> <span class=\"n\">ccm</span><span class=\"p\">.</span><span class=\"n\">alt</span> <span class=\"o\">=</span> <span class=\"n\">v</span><span class=\"p\">.</span><span class=\"n\">alt</span><span class=\"p\">)</span>\n",
       "<span class=\"k\">JOIN</span> <span class=\"n\">uniprot_kb_proteomes</span><span class=\"p\">.</span><span class=\"n\">UP000005640_9606_fasta</span> <span class=\"n\">us</span> <span class=\"k\">ON</span> <span class=\"p\">(</span><span class=\"n\">v</span><span class=\"p\">.</span><span class=\"n\">mutationassessor_uniprotid</span> <span class=\"o\">=</span> <span class=\"n\">us</span><span class=\"p\">.</span><span class=\"n\">uniprot_id</span><span class=\"p\">)</span>\n",
       "<span class=\"k\">WHERE</span> <span class=\"n\">cme</span><span class=\"p\">.</span><span class=\"n\">fathmm_score</span> <span class=\"k\">IS</span> <span class=\"k\">NOT</span> <span class=\"k\">NULL</span> <span class=\"k\">AND</span> <span class=\"n\">cme</span><span class=\"p\">.</span><span class=\"n\">fathmm_prediction</span> <span class=\"k\">IS</span> <span class=\"k\">NOT</span> <span class=\"k\">NULL</span><span class=\"p\">;</span>\n",
       "</pre></div>\n"
      ],
      "text/plain": [
       "<IPython.core.display.HTML object>"
      ]
     },
     "metadata": {},
     "output_type": "display_data"
    }
   ],
   "source": [
    "# SQL query\n",
    "sql_query = r\"\"\"\\\n",
    "SELECT \n",
    "    us.uniprot_acc,\n",
    "    v.mutationassessor_variant mutation,\n",
    "    NULL ddg_exp,\n",
    "    cme.fathmm_score del_score_exp,\n",
    "    CASE cme.fathmm_prediction WHEN 'NEUTRAL' THEN 0 WHEN 'PATHOGENIC' THEN 1 ELSE NULL END del_class_exp\n",
    "INTO OUTFILE '/tmp/{}.tsv' \n",
    "    FIELDS TERMINATED BY '\\t' OPTIONALLY ENCLOSED BY '\"'\n",
    "    LINES TERMINATED BY '\\n'\n",
    "FROM cosmic_new.cosmic_coding_muts ccm \n",
    "JOIN cosmic_new.cosmic_mutant_export cme ON (cme.mutation_id = ccm.id)\n",
    "JOIN dbnsfp.variant v ON (ccm.chrom = v.chr AND ccm.pos = v.pos_1based AND ccm.ref = v.ref AND ccm.alt = v.alt)\n",
    "JOIN uniprot_kb_proteomes.UP000005640_9606_fasta us ON (v.mutationassessor_uniprotid = us.uniprot_id)\n",
    "WHERE cme.fathmm_score IS NOT NULL AND cme.fathmm_prediction IS NOT NULL;\n",
    "\"\"\".format(NOTEBOOK_NAME)\n",
    "print_sql(sql_query)"
   ]
  },
  {
   "cell_type": "code",
   "execution_count": 58,
   "metadata": {
    "collapsed": false
   },
   "outputs": [
    {
     "data": {
      "text/plain": [
       "<sqlalchemy.engine.result.ResultProxy at 0x7f4aea285780>"
      ]
     },
     "execution_count": 58,
     "metadata": {},
     "output_type": "execute_result"
    }
   ],
   "source": [
    "db_remote.engine.execute(sql_query)"
   ]
  },
  {
   "cell_type": "markdown",
   "metadata": {
    "collapsed": true
   },
   "source": [
    "# Load to local db"
   ]
  },
  {
   "cell_type": "code",
   "execution_count": 59,
   "metadata": {
    "collapsed": false
   },
   "outputs": [
    {
     "name": "stdout",
     "output_type": "stream",
     "text": [
      "receiving incremental file list\n",
      "cosmic.tsv\n",
      "\n",
      "sent 60,026 bytes  received 61,104,164 bytes  3,306,172.43 bytes/sec\n",
      "total size is 61,089,147  speedup is 1.00\n"
     ]
    }
   ],
   "source": [
    "!rsync -av {DB_URL}:/tmp/{NOTEBOOK_NAME}.tsv {NOTEBOOK_NAME}/{NOTEBOOK_NAME}.tsv"
   ]
  },
  {
   "cell_type": "code",
   "execution_count": 60,
   "metadata": {
    "collapsed": false
   },
   "outputs": [
    {
     "name": "stdout",
     "output_type": "stream",
     "text": [
      "cosmic/cosmic.tsv already supported\r\n"
     ]
    }
   ],
   "source": [
    "!git lfs track {NOTEBOOK_NAME}/{NOTEBOOK_NAME}.tsv"
   ]
  },
  {
   "cell_type": "code",
   "execution_count": 61,
   "metadata": {
    "collapsed": true
   },
   "outputs": [],
   "source": [
    "!git add {NOTEBOOK_NAME}/{NOTEBOOK_NAME}.tsv -f"
   ]
  },
  {
   "cell_type": "code",
   "execution_count": 84,
   "metadata": {
    "collapsed": false
   },
   "outputs": [],
   "source": [
    "t = db.import_file(\n",
    "    op.join(NOTEBOOK_NAME, NOTEBOOK_NAME + '.tsv'),\n",
    "    tablename=NOTEBOOK_NAME + '_tmp',\n",
    "    names=['uniprot_id', 'uniprot_mutation', 'ddg_exp', 'del_score_exp', 'del_class_exp'],\n",
    "    sep='\\t',\n",
    "    na_values=['\\\\N'],\n",
    "    keep_tmp=True,\n",
    ")"
   ]
  },
  {
   "cell_type": "code",
   "execution_count": 85,
   "metadata": {
    "collapsed": false
   },
   "outputs": [
    {
     "data": {
      "text/plain": [
       "'cosmic_tmp'"
      ]
     },
     "execution_count": 85,
     "metadata": {},
     "output_type": "execute_result"
    }
   ],
   "source": [
    "t.name"
   ]
  },
  {
   "cell_type": "code",
   "execution_count": 86,
   "metadata": {
    "collapsed": false
   },
   "outputs": [
    {
     "data": {
      "text/plain": [
       "<sqlalchemy.engine.result.ResultProxy at 0x7f4ae9d5ee48>"
      ]
     },
     "execution_count": 86,
     "metadata": {},
     "output_type": "execute_result"
    }
   ],
   "source": [
    "db.engine.execute(\"DROP TABLE IF EXISTS {}\".format(NOTEBOOK_NAME))"
   ]
  },
  {
   "cell_type": "code",
   "execution_count": 87,
   "metadata": {
    "collapsed": false
   },
   "outputs": [
    {
     "data": {
      "text/plain": [
       "<sqlalchemy.engine.result.ResultProxy at 0x7f4ae9d5ea20>"
      ]
     },
     "execution_count": 87,
     "metadata": {},
     "output_type": "execute_result"
    }
   ],
   "source": [
    "db.engine.execute(\"\"\"\\\n",
    "CREATE TABLE {} AS (\n",
    "    SELECT \n",
    "    uniprot_id, \n",
    "    uniprot_mutation, \n",
    "    NULL ddg_exp, \n",
    "    AVG(del_score_exp) del_score_exp, \n",
    "    ROUND(AVG(del_class_exp)) del_class_exp\n",
    "    FROM {}\n",
    "    GROUP BY uniprot_id, uniprot_mutation\n",
    ")\n",
    "\"\"\".format(NOTEBOOK_NAME, NOTEBOOK_NAME + '_tmp'))"
   ]
  },
  {
   "cell_type": "code",
   "execution_count": 88,
   "metadata": {
    "collapsed": false
   },
   "outputs": [
    {
     "data": {
      "text/plain": [
       "<sqlalchemy.engine.result.ResultProxy at 0x7f4ae9dd9198>"
      ]
     },
     "execution_count": 88,
     "metadata": {},
     "output_type": "execute_result"
    }
   ],
   "source": [
    "db.engine.execute(\"DROP TABLE IF EXISTS {}\".format(NOTEBOOK_NAME + '_tmp'))"
   ]
  },
  {
   "cell_type": "code",
   "execution_count": 89,
   "metadata": {
    "collapsed": true
   },
   "outputs": [],
   "source": [
    "t.name = t.name.replace('_tmp', '')"
   ]
  },
  {
   "cell_type": "code",
   "execution_count": 90,
   "metadata": {
    "collapsed": false
   },
   "outputs": [
    {
     "data": {
      "text/plain": [
       "991617"
      ]
     },
     "execution_count": 90,
     "metadata": {},
     "output_type": "execute_result"
    }
   ],
   "source": [
    "t.add_idx_column()"
   ]
  },
  {
   "cell_type": "code",
   "execution_count": 91,
   "metadata": {
    "collapsed": false
   },
   "outputs": [],
   "source": [
    "t.create_indexes([\n",
    "        (['uniprot_id', 'uniprot_mutation'], True),\n",
    "    ])"
   ]
  },
  {
   "cell_type": "code",
   "execution_count": 92,
   "metadata": {
    "collapsed": false
   },
   "outputs": [
    {
     "name": "stderr",
     "output_type": "stream",
     "text": [
      "File size before: 37.84 MB\n",
      "File size after: 18.06 MB\n",
      "File size savings: 18.06 MB (47.73 %)\n"
     ]
    }
   ],
   "source": [
    "t.compress()"
   ]
  },
  {
   "cell_type": "markdown",
   "metadata": {},
   "source": [
    "# Git LFS"
   ]
  },
  {
   "cell_type": "code",
   "execution_count": 93,
   "metadata": {
    "collapsed": false
   },
   "outputs": [
    {
     "name": "stdout",
     "output_type": "stream",
     "text": [
      "Tracking ./mysqld/mutation_sets/cosmic.MYD\n",
      "Tracking ./mysqld/mutation_sets/cosmic.MYI\n",
      "Tracking ./mysqld/mutation_sets/cosmic.frm\n"
     ]
    }
   ],
   "source": [
    "!git lfs track ./mysqld/{os.environ['DB_SCHEMA']}/{NOTEBOOK_NAME}.*"
   ]
  },
  {
   "cell_type": "code",
   "execution_count": 94,
   "metadata": {
    "collapsed": true
   },
   "outputs": [],
   "source": [
    "!git add -f ./mysqld/{os.environ['DB_SCHEMA']}/{NOTEBOOK_NAME}.*"
   ]
  },
  {
   "cell_type": "code",
   "execution_count": null,
   "metadata": {
    "collapsed": true
   },
   "outputs": [],
   "source": []
  }
 ],
 "metadata": {
  "anaconda-cloud": {},
  "kernelspec": {
   "display_name": "Python [Root]",
   "language": "python",
   "name": "Python [Root]"
  },
  "language_info": {
   "codemirror_mode": {
    "name": "ipython",
    "version": 3
   },
   "file_extension": ".py",
   "mimetype": "text/x-python",
   "name": "python",
   "nbconvert_exporter": "python",
   "pygments_lexer": "ipython3",
   "version": "3.5.2"
  },
  "toc": {
   "navigate_menu": false,
   "number_sections": true,
   "sideBar": false,
   "threshold": 6,
   "toc_cell": false,
   "toc_section_display": "block",
   "toc_window_display": true
  }
 },
 "nbformat": 4,
 "nbformat_minor": 0
}
