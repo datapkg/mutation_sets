{
 "cells": [
  {
   "cell_type": "markdown",
   "metadata": {
    "toc": "true"
   },
   "source": [
    "# Table of Contents\n",
    " <p><div class=\"lev1\"><a href=\"#Summary\"><span class=\"toc-item-num\">1&nbsp;&nbsp;</span>Summary</a></div><div class=\"lev1\"><a href=\"#Imports\"><span class=\"toc-item-num\">2&nbsp;&nbsp;</span>Imports</a></div><div class=\"lev1\"><a href=\"#Download\"><span class=\"toc-item-num\">3&nbsp;&nbsp;</span>Download</a></div><div class=\"lev1\"><a href=\"#Load-data\"><span class=\"toc-item-num\">4&nbsp;&nbsp;</span>Load data</a></div><div class=\"lev1\"><a href=\"#Save-to-database\"><span class=\"toc-item-num\">5&nbsp;&nbsp;</span>Save to database</a></div>"
   ]
  },
  {
   "cell_type": "markdown",
   "metadata": {},
   "source": [
    "# Summary\n",
    "\n",
    "\n",
    "https://genomeinterpretation.org/content/4-SUMO_ligase\n",
    "\n",
    "----"
   ]
  },
  {
   "cell_type": "markdown",
   "metadata": {},
   "source": [
    "# Imports"
   ]
  },
  {
   "cell_type": "code",
   "execution_count": 1,
   "metadata": {
    "collapsed": false
   },
   "outputs": [
    {
     "name": "stdout",
     "output_type": "stream",
     "text": [
      "2016-08-25 22:15:57.256543\n"
     ]
    }
   ],
   "source": [
    "%run imports.ipynb"
   ]
  },
  {
   "cell_type": "code",
   "execution_count": 2,
   "metadata": {
    "collapsed": false,
    "scrolled": true
   },
   "outputs": [
    {
     "name": "stdout",
     "output_type": "stream",
     "text": [
      "The autoreload extension is already loaded. To reload it, use:\n",
      "  %reload_ext autoreload\n",
      "2016-08-25 22:15:57.450829\n"
     ]
    },
    {
     "name": "stderr",
     "output_type": "stream",
     "text": [
      "MySQL database already running...\n"
     ]
    }
   ],
   "source": [
    "%run db.ipynb"
   ]
  },
  {
   "cell_type": "code",
   "execution_count": 3,
   "metadata": {
    "collapsed": false
   },
   "outputs": [],
   "source": [
    "NOTEBOOK_NAME = 'cagi4_sumo_ligase'\n",
    "os.makedirs(NOTEBOOK_NAME, exist_ok=True)"
   ]
  },
  {
   "cell_type": "markdown",
   "metadata": {},
   "source": [
    "# Download\n",
    "\n",
    "Downlaod `4-SUMO_ligase_answer_key.txt`, `4-SUMO_ligase_predictions.zip`, and `4-SUMO_ligase_dataset.txt` from https://genomeinterpretation.org/content/4-SUMO_ligase."
   ]
  },
  {
   "cell_type": "code",
   "execution_count": 4,
   "metadata": {
    "collapsed": false
   },
   "outputs": [
    {
     "name": "stdout",
     "output_type": "stream",
     "text": [
      "4-SUMO_ligase_answer_key.txt   Group_39  Group_42  Group_45\r\n",
      "4-SUMO_ligase_dataset.txt      Group_40  Group_43  Group_46\r\n",
      "4-SUMO_ligase_predictions.zip  Group_41  Group_44  Group_47\r\n"
     ]
    }
   ],
   "source": [
    "!ls $NOTEBOOK_NAME"
   ]
  },
  {
   "cell_type": "markdown",
   "metadata": {},
   "source": [
    "# Load data"
   ]
  },
  {
   "cell_type": "code",
   "execution_count": 5,
   "metadata": {
    "collapsed": false
   },
   "outputs": [
    {
     "name": "stdout",
     "output_type": "stream",
     "text": [
      "\n",
      "7-Zip [64] 15.09 beta : Copyright (c) 1999-2015 Igor Pavlov : 2015-10-16\n",
      "p7zip Version 15.09 beta (locale=en_CA.UTF-8,Utf16=on,HugeFiles=on,64 bits,64 CPUs x64)\n",
      "\n",
      "Scanning the drive for archives:\n",
      "1 file, 3097916 bytes (3026 KiB)\n",
      "\n",
      "Extracting archive: cagi4_sumo_ligase/4-SUMO_ligase_predictions.zip\n",
      "--\n",
      "Path = cagi4_sumo_ligase/4-SUMO_ligase_predictions.zip\n",
      "Type = zip\n",
      "Physical Size = 3097916\n",
      "\n",
      "Everything is Ok\n",
      "\n",
      "Files: 0\n",
      "Size:       0\n",
      "Compressed: 3097916\n"
     ]
    }
   ],
   "source": [
    "!7z x -bd -aos \"$NOTEBOOK_NAME/4-SUMO_ligase_predictions.zip\" -o\"$NOTEBOOK_NAME\""
   ]
  },
  {
   "cell_type": "code",
   "execution_count": 6,
   "metadata": {
    "collapsed": false
   },
   "outputs": [
    {
     "name": "stdout",
     "output_type": "stream",
     "text": [
      "4-SUMO_ligase_answer_key.txt   Group_39  Group_42  Group_45\r\n",
      "4-SUMO_ligase_dataset.txt      Group_40  Group_43  Group_46\r\n",
      "4-SUMO_ligase_predictions.zip  Group_41  Group_44  Group_47\r\n"
     ]
    }
   ],
   "source": [
    "!ls $NOTEBOOK_NAME"
   ]
  },
  {
   "cell_type": "code",
   "execution_count": 7,
   "metadata": {
    "collapsed": false
   },
   "outputs": [],
   "source": [
    "DF = pd.read_csv(op.join(NOTEBOOK_NAME, '4-SUMO_ligase_answer_key.txt'), sep='\\t')"
   ]
  },
  {
   "cell_type": "code",
   "execution_count": 8,
   "metadata": {
    "collapsed": false,
    "scrolled": true
   },
   "outputs": [
    {
     "data": {
      "text/html": [
       "<div>\n",
       "<table border=\"1\" class=\"dataframe\">\n",
       "  <thead>\n",
       "    <tr style=\"text-align: right;\">\n",
       "      <th></th>\n",
       "      <th>AA_substitution(s)</th>\n",
       "      <th>competitive_growth_score</th>\n",
       "      <th>stderr</th>\n",
       "    </tr>\n",
       "  </thead>\n",
       "  <tbody>\n",
       "    <tr>\n",
       "      <th>0</th>\n",
       "      <td>#Subset 1</td>\n",
       "      <td>NaN</td>\n",
       "      <td>NaN</td>\n",
       "    </tr>\n",
       "    <tr>\n",
       "      <th>1</th>\n",
       "      <td>A10G</td>\n",
       "      <td>0.545179</td>\n",
       "      <td>0.276260</td>\n",
       "    </tr>\n",
       "    <tr>\n",
       "      <th>2</th>\n",
       "      <td>A129V</td>\n",
       "      <td>-0.106306</td>\n",
       "      <td>0.052569</td>\n",
       "    </tr>\n",
       "    <tr>\n",
       "      <th>3</th>\n",
       "      <td>A131S</td>\n",
       "      <td>0.971831</td>\n",
       "      <td>0.327676</td>\n",
       "    </tr>\n",
       "    <tr>\n",
       "      <th>4</th>\n",
       "      <td>A150T</td>\n",
       "      <td>0.068733</td>\n",
       "      <td>0.265307</td>\n",
       "    </tr>\n",
       "  </tbody>\n",
       "</table>\n",
       "</div>"
      ],
      "text/plain": [
       "  AA_substitution(s)  competitive_growth_score    stderr\n",
       "0          #Subset 1                       NaN       NaN\n",
       "1               A10G                  0.545179  0.276260\n",
       "2              A129V                 -0.106306  0.052569\n",
       "3              A131S                  0.971831  0.327676\n",
       "4              A150T                  0.068733  0.265307"
      ]
     },
     "execution_count": 8,
     "metadata": {},
     "output_type": "execute_result"
    }
   ],
   "source": [
    "DF.head()"
   ]
  },
  {
   "cell_type": "code",
   "execution_count": 9,
   "metadata": {
    "collapsed": true
   },
   "outputs": [],
   "source": [
    "DF = DF[DF['AA_substitution(s)'] != '#Subset 1']"
   ]
  },
  {
   "cell_type": "code",
   "execution_count": 10,
   "metadata": {
    "collapsed": false
   },
   "outputs": [
    {
     "data": {
      "text/html": [
       "<div>\n",
       "<table border=\"1\" class=\"dataframe\">\n",
       "  <thead>\n",
       "    <tr style=\"text-align: right;\">\n",
       "      <th></th>\n",
       "      <th>AA_substitution(s)</th>\n",
       "      <th>competitive_growth_score</th>\n",
       "      <th>stderr</th>\n",
       "    </tr>\n",
       "  </thead>\n",
       "  <tbody>\n",
       "    <tr>\n",
       "      <th>1</th>\n",
       "      <td>A10G</td>\n",
       "      <td>0.545179</td>\n",
       "      <td>0.276260</td>\n",
       "    </tr>\n",
       "    <tr>\n",
       "      <th>2</th>\n",
       "      <td>A129V</td>\n",
       "      <td>-0.106306</td>\n",
       "      <td>0.052569</td>\n",
       "    </tr>\n",
       "    <tr>\n",
       "      <th>3</th>\n",
       "      <td>A131S</td>\n",
       "      <td>0.971831</td>\n",
       "      <td>0.327676</td>\n",
       "    </tr>\n",
       "    <tr>\n",
       "      <th>4</th>\n",
       "      <td>A150T</td>\n",
       "      <td>0.068733</td>\n",
       "      <td>0.265307</td>\n",
       "    </tr>\n",
       "    <tr>\n",
       "      <th>5</th>\n",
       "      <td>A150W</td>\n",
       "      <td>0.451040</td>\n",
       "      <td>0.095980</td>\n",
       "    </tr>\n",
       "  </tbody>\n",
       "</table>\n",
       "</div>"
      ],
      "text/plain": [
       "  AA_substitution(s)  competitive_growth_score    stderr\n",
       "1               A10G                  0.545179  0.276260\n",
       "2              A129V                 -0.106306  0.052569\n",
       "3              A131S                  0.971831  0.327676\n",
       "4              A150T                  0.068733  0.265307\n",
       "5              A150W                  0.451040  0.095980"
      ]
     },
     "execution_count": 10,
     "metadata": {},
     "output_type": "execute_result"
    }
   ],
   "source": [
    "DF.head()"
   ]
  },
  {
   "cell_type": "code",
   "execution_count": 11,
   "metadata": {
    "collapsed": false
   },
   "outputs": [
    {
     "data": {
      "text/html": [
       "<div>\n",
       "<table border=\"1\" class=\"dataframe\">\n",
       "  <thead>\n",
       "    <tr style=\"text-align: right;\">\n",
       "      <th></th>\n",
       "      <th>AA_substitution(s)</th>\n",
       "      <th>competitive_growth_score</th>\n",
       "      <th>stderr</th>\n",
       "    </tr>\n",
       "  </thead>\n",
       "  <tbody>\n",
       "    <tr>\n",
       "      <th>5107</th>\n",
       "      <td>Y87H,P105E,A133P</td>\n",
       "      <td>-0.142567</td>\n",
       "      <td>0.129594</td>\n",
       "    </tr>\n",
       "    <tr>\n",
       "      <th>5108</th>\n",
       "      <td>Y87N,A106T,I107N,T108A</td>\n",
       "      <td>-0.241470</td>\n",
       "      <td>0.119112</td>\n",
       "    </tr>\n",
       "    <tr>\n",
       "      <th>5109</th>\n",
       "      <td>Y87N,E98G</td>\n",
       "      <td>0.135409</td>\n",
       "      <td>0.137413</td>\n",
       "    </tr>\n",
       "    <tr>\n",
       "      <th>5110</th>\n",
       "      <td>Y87N,E98K</td>\n",
       "      <td>1.998385</td>\n",
       "      <td>0.151798</td>\n",
       "    </tr>\n",
       "    <tr>\n",
       "      <th>5111</th>\n",
       "      <td>Y87N,N124R</td>\n",
       "      <td>-0.240334</td>\n",
       "      <td>0.107067</td>\n",
       "    </tr>\n",
       "  </tbody>\n",
       "</table>\n",
       "</div>"
      ],
      "text/plain": [
       "          AA_substitution(s)  competitive_growth_score    stderr\n",
       "5107        Y87H,P105E,A133P                 -0.142567  0.129594\n",
       "5108  Y87N,A106T,I107N,T108A                 -0.241470  0.119112\n",
       "5109               Y87N,E98G                  0.135409  0.137413\n",
       "5110               Y87N,E98K                  1.998385  0.151798\n",
       "5111              Y87N,N124R                 -0.240334  0.107067"
      ]
     },
     "execution_count": 11,
     "metadata": {},
     "output_type": "execute_result"
    }
   ],
   "source": [
    "DF.tail()"
   ]
  },
  {
   "cell_type": "code",
   "execution_count": 12,
   "metadata": {
    "collapsed": true
   },
   "outputs": [],
   "source": [
    "DF['uniprot_id'] = 'P63279'\n",
    "DF['partner_uniprot_id'] = np.nan\n",
    "DF['uniprot_mutation'] = DF['AA_substitution(s)'].str.replace(',', '.')\n",
    "DF['del_score_exp'] = DF['competitive_growth_score']"
   ]
  },
  {
   "cell_type": "code",
   "execution_count": 13,
   "metadata": {
    "collapsed": false
   },
   "outputs": [
    {
     "data": {
      "text/html": [
       "<div>\n",
       "<table border=\"1\" class=\"dataframe\">\n",
       "  <thead>\n",
       "    <tr style=\"text-align: right;\">\n",
       "      <th></th>\n",
       "      <th>AA_substitution(s)</th>\n",
       "      <th>competitive_growth_score</th>\n",
       "      <th>stderr</th>\n",
       "      <th>uniprot_id</th>\n",
       "      <th>partner_uniprot_id</th>\n",
       "      <th>uniprot_mutation</th>\n",
       "      <th>del_score_exp</th>\n",
       "    </tr>\n",
       "  </thead>\n",
       "  <tbody>\n",
       "    <tr>\n",
       "      <th>1</th>\n",
       "      <td>A10G</td>\n",
       "      <td>0.545179</td>\n",
       "      <td>0.276260</td>\n",
       "      <td>P63279</td>\n",
       "      <td>NaN</td>\n",
       "      <td>A10G</td>\n",
       "      <td>0.545179</td>\n",
       "    </tr>\n",
       "    <tr>\n",
       "      <th>2</th>\n",
       "      <td>A129V</td>\n",
       "      <td>-0.106306</td>\n",
       "      <td>0.052569</td>\n",
       "      <td>P63279</td>\n",
       "      <td>NaN</td>\n",
       "      <td>A129V</td>\n",
       "      <td>-0.106306</td>\n",
       "    </tr>\n",
       "    <tr>\n",
       "      <th>3</th>\n",
       "      <td>A131S</td>\n",
       "      <td>0.971831</td>\n",
       "      <td>0.327676</td>\n",
       "      <td>P63279</td>\n",
       "      <td>NaN</td>\n",
       "      <td>A131S</td>\n",
       "      <td>0.971831</td>\n",
       "    </tr>\n",
       "    <tr>\n",
       "      <th>4</th>\n",
       "      <td>A150T</td>\n",
       "      <td>0.068733</td>\n",
       "      <td>0.265307</td>\n",
       "      <td>P63279</td>\n",
       "      <td>NaN</td>\n",
       "      <td>A150T</td>\n",
       "      <td>0.068733</td>\n",
       "    </tr>\n",
       "    <tr>\n",
       "      <th>5</th>\n",
       "      <td>A150W</td>\n",
       "      <td>0.451040</td>\n",
       "      <td>0.095980</td>\n",
       "      <td>P63279</td>\n",
       "      <td>NaN</td>\n",
       "      <td>A150W</td>\n",
       "      <td>0.451040</td>\n",
       "    </tr>\n",
       "  </tbody>\n",
       "</table>\n",
       "</div>"
      ],
      "text/plain": [
       "  AA_substitution(s)  competitive_growth_score    stderr uniprot_id  partner_uniprot_id uniprot_mutation  del_score_exp\n",
       "1               A10G                  0.545179  0.276260     P63279                 NaN             A10G       0.545179\n",
       "2              A129V                 -0.106306  0.052569     P63279                 NaN            A129V      -0.106306\n",
       "3              A131S                  0.971831  0.327676     P63279                 NaN            A131S       0.971831\n",
       "4              A150T                  0.068733  0.265307     P63279                 NaN            A150T       0.068733\n",
       "5              A150W                  0.451040  0.095980     P63279                 NaN            A150W       0.451040"
      ]
     },
     "execution_count": 13,
     "metadata": {},
     "output_type": "execute_result"
    }
   ],
   "source": [
    "DF.head()"
   ]
  },
  {
   "cell_type": "code",
   "execution_count": 14,
   "metadata": {
    "collapsed": true
   },
   "outputs": [],
   "source": [
    "DF1_bak = DF.copy()"
   ]
  },
  {
   "cell_type": "markdown",
   "metadata": {},
   "source": [
    "# Save to database"
   ]
  },
  {
   "cell_type": "code",
   "execution_count": 15,
   "metadata": {
    "collapsed": false,
    "run_control": {
     "marked": false
    }
   },
   "outputs": [],
   "source": [
    "DF = DF1_bak.copy()"
   ]
  },
  {
   "cell_type": "code",
   "execution_count": 16,
   "metadata": {
    "collapsed": false
   },
   "outputs": [
    {
     "data": {
      "text/html": [
       "<div>\n",
       "<table border=\"1\" class=\"dataframe\">\n",
       "  <thead>\n",
       "    <tr style=\"text-align: right;\">\n",
       "      <th></th>\n",
       "      <th>AA_substitution(s)</th>\n",
       "      <th>competitive_growth_score</th>\n",
       "      <th>stderr</th>\n",
       "      <th>uniprot_id</th>\n",
       "      <th>partner_uniprot_id</th>\n",
       "      <th>uniprot_mutation</th>\n",
       "      <th>del_score_exp</th>\n",
       "    </tr>\n",
       "  </thead>\n",
       "  <tbody>\n",
       "    <tr>\n",
       "      <th>1</th>\n",
       "      <td>A10G</td>\n",
       "      <td>0.545179</td>\n",
       "      <td>0.276260</td>\n",
       "      <td>P63279</td>\n",
       "      <td>NaN</td>\n",
       "      <td>A10G</td>\n",
       "      <td>0.545179</td>\n",
       "    </tr>\n",
       "    <tr>\n",
       "      <th>2</th>\n",
       "      <td>A129V</td>\n",
       "      <td>-0.106306</td>\n",
       "      <td>0.052569</td>\n",
       "      <td>P63279</td>\n",
       "      <td>NaN</td>\n",
       "      <td>A129V</td>\n",
       "      <td>-0.106306</td>\n",
       "    </tr>\n",
       "    <tr>\n",
       "      <th>3</th>\n",
       "      <td>A131S</td>\n",
       "      <td>0.971831</td>\n",
       "      <td>0.327676</td>\n",
       "      <td>P63279</td>\n",
       "      <td>NaN</td>\n",
       "      <td>A131S</td>\n",
       "      <td>0.971831</td>\n",
       "    </tr>\n",
       "    <tr>\n",
       "      <th>4</th>\n",
       "      <td>A150T</td>\n",
       "      <td>0.068733</td>\n",
       "      <td>0.265307</td>\n",
       "      <td>P63279</td>\n",
       "      <td>NaN</td>\n",
       "      <td>A150T</td>\n",
       "      <td>0.068733</td>\n",
       "    </tr>\n",
       "    <tr>\n",
       "      <th>5</th>\n",
       "      <td>A150W</td>\n",
       "      <td>0.451040</td>\n",
       "      <td>0.095980</td>\n",
       "      <td>P63279</td>\n",
       "      <td>NaN</td>\n",
       "      <td>A150W</td>\n",
       "      <td>0.451040</td>\n",
       "    </tr>\n",
       "  </tbody>\n",
       "</table>\n",
       "</div>"
      ],
      "text/plain": [
       "  AA_substitution(s)  competitive_growth_score    stderr uniprot_id  partner_uniprot_id uniprot_mutation  del_score_exp\n",
       "1               A10G                  0.545179  0.276260     P63279                 NaN             A10G       0.545179\n",
       "2              A129V                 -0.106306  0.052569     P63279                 NaN            A129V      -0.106306\n",
       "3              A131S                  0.971831  0.327676     P63279                 NaN            A131S       0.971831\n",
       "4              A150T                  0.068733  0.265307     P63279                 NaN            A150T       0.068733\n",
       "5              A150W                  0.451040  0.095980     P63279                 NaN            A150W       0.451040"
      ]
     },
     "execution_count": 16,
     "metadata": {},
     "output_type": "execute_result"
    }
   ],
   "source": [
    "DF.head()"
   ]
  },
  {
   "cell_type": "code",
   "execution_count": 17,
   "metadata": {
    "collapsed": true
   },
   "outputs": [],
   "source": [
    "columns = [\n",
    "    'uniprot_id', 'partner_uniprot_id', 'uniprot_mutation', 'del_score_exp',\n",
    "]"
   ]
  },
  {
   "cell_type": "code",
   "execution_count": 18,
   "metadata": {
    "collapsed": false
   },
   "outputs": [
    {
     "name": "stdout",
     "output_type": "stream",
     "text": [
      "5111\n",
      "5111\n"
     ]
    }
   ],
   "source": [
    "print(DF.shape[0])\n",
    "print(DF[columns].drop_duplicates().shape[0])"
   ]
  },
  {
   "cell_type": "code",
   "execution_count": 19,
   "metadata": {
    "collapsed": false,
    "run_control": {
     "marked": false
    }
   },
   "outputs": [],
   "source": [
    "t = db.import_df(DF[columns], NOTEBOOK_NAME)"
   ]
  },
  {
   "cell_type": "code",
   "execution_count": 20,
   "metadata": {
    "collapsed": false
   },
   "outputs": [],
   "source": [
    "t.create_indexes([\n",
    "    (['uniprot_id', 'uniprot_mutation'], True),\n",
    "])"
   ]
  },
  {
   "cell_type": "code",
   "execution_count": 21,
   "metadata": {
    "collapsed": false,
    "scrolled": true
   },
   "outputs": [
    {
     "data": {
      "text/plain": [
       "5111"
      ]
     },
     "execution_count": 21,
     "metadata": {},
     "output_type": "execute_result"
    }
   ],
   "source": [
    "t.add_idx_column()"
   ]
  },
  {
   "cell_type": "code",
   "execution_count": 22,
   "metadata": {
    "collapsed": false
   },
   "outputs": [
    {
     "name": "stderr",
     "output_type": "stream",
     "text": [
      "File size before: 0.22 MB\n",
      "File size after: 0.11 MB\n",
      "File size savings: 0.11 MB (50.57 %)\n"
     ]
    },
    {
     "data": {
      "text/plain": [
       "(CompletedProcess(args=['myisampack', '--no-defaults', '/home/kimlab1/database_data/biodb/recipes/mutation_sets/notebooks/mysqld/mutation_sets/cagi4_sumo_ligase.MYI'], returncode=0, stdout='Remember to run myisamchk -rq on compressed tables\\n', stderr=''),\n",
       " CompletedProcess(args=['myisamchk', '-rq', '/home/kimlab1/database_data/biodb/recipes/mutation_sets/notebooks/mysqld/mutation_sets/cagi4_sumo_ligase.MYI'], returncode=0, stdout=\"- check record delete-chain\\n- recovering (with sort) MyISAM-table '/home/kimlab1/database_data/biodb/recipes/mutation_sets/notebooks/mysqld/mutation_sets/cagi4_sumo_ligase.MYI'\\nData records: 5111\\n- Fixing index 1\\n- Fixing index 2\\n\", stderr=''))"
      ]
     },
     "execution_count": 22,
     "metadata": {},
     "output_type": "execute_result"
    }
   ],
   "source": [
    "t.compress()"
   ]
  },
  {
   "cell_type": "raw",
   "metadata": {},
   "source": [
    "!git lfs track mysqld/{os.environ['DB_SCHEMA']}/{NOTEBOOK_NAME}.*"
   ]
  },
  {
   "cell_type": "raw",
   "metadata": {},
   "source": [
    "!git add mysqld/{os.environ['DB_SCHEMA']}/{NOTEBOOK_NAME}.*"
   ]
  },
  {
   "cell_type": "code",
   "execution_count": 23,
   "metadata": {
    "collapsed": false
   },
   "outputs": [
    {
     "name": "stdout",
     "output_type": "stream",
     "text": [
      "2016-08-25 22:16:03.322636\n"
     ]
    }
   ],
   "source": [
    "print(datetime.datetime.now())"
   ]
  }
 ],
 "metadata": {
  "anaconda-cloud": {},
  "kernelspec": {
   "display_name": "Python [Root]",
   "language": "python",
   "name": "Python [Root]"
  },
  "language_info": {
   "codemirror_mode": {
    "name": "ipython",
    "version": 3
   },
   "file_extension": ".py",
   "mimetype": "text/x-python",
   "name": "python",
   "nbconvert_exporter": "python",
   "pygments_lexer": "ipython3",
   "version": "3.5.2"
  },
  "toc": {
   "navigate_menu": false,
   "number_sections": true,
   "sideBar": false,
   "threshold": 6,
   "toc_cell": true,
   "toc_section_display": "block",
   "toc_window_display": true
  },
  "toc_position": {
   "height": "316px",
   "left": "123.247px",
   "right": "20px",
   "top": "47.9688px",
   "width": "230px"
  }
 },
 "nbformat": 4,
 "nbformat_minor": 0
}
