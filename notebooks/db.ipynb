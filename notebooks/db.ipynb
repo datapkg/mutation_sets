{
 "cells": [
  {
   "cell_type": "markdown",
   "metadata": {},
   "source": [
    "# Summary\n",
    "\n",
    "Starts `mysqld` daemon, which is used as the database for this repository.\n",
    "\n",
    "----"
   ]
  },
  {
   "cell_type": "code",
   "execution_count": 1,
   "metadata": {
    "collapsed": false
   },
   "outputs": [
    {
     "name": "stdout",
     "output_type": "stream",
     "text": [
      "2016-08-25 21:30:10.064485\n"
     ]
    }
   ],
   "source": [
    "%run imports.ipynb"
   ]
  },
  {
   "cell_type": "code",
   "execution_count": 2,
   "metadata": {
    "collapsed": false
   },
   "outputs": [],
   "source": [
    "# Database options\n",
    "os.environ['DB_TYPE'] = KAPSEL['variables'].get('DB_TYPE', 'MySQL')\n",
    "os.environ['DB_DATA_DIR'] = op.abspath('mysqld')\n",
    "os.environ['DB_PORT'] = str(KAPSEL['variables']['DB_PORT'])\n",
    "os.environ['DB_SCHEMA'] = op.basename(op.dirname(os.getcwd()))\n",
    "os.environ['DB_TEMPDIR'] = op.join(tempfile.gettempdir(), op.basename(op.dirname(os.getcwd())))\n",
    "os.environ['DB_SOCKET'] = op.abspath(op.join(tempfile.gettempdir(), os.environ['DB_SCHEMA'], 'mysql.sock'))"
   ]
  },
  {
   "cell_type": "code",
   "execution_count": 3,
   "metadata": {
    "collapsed": true
   },
   "outputs": [],
   "source": [
    "os.makedirs(os.environ['DB_DATA_DIR'], exist_ok=True)\n",
    "os.makedirs(op.dirname(os.environ['DB_SOCKET']), exist_ok=True)"
   ]
  },
  {
   "cell_type": "code",
   "execution_count": 4,
   "metadata": {
    "collapsed": false
   },
   "outputs": [
    {
     "name": "stderr",
     "output_type": "stream",
     "text": [
      "Starting MySQL database...\n"
     ]
    }
   ],
   "source": [
    "db_daemon = datapkg.start_database(\n",
    "    os.environ['DB_TYPE'], os.environ['DB_DATA_DIR'], os.environ['DB_SOCKET'], os.environ['DB_PORT'])"
   ]
  },
  {
   "cell_type": "code",
   "execution_count": 5,
   "metadata": {
    "collapsed": true
   },
   "outputs": [],
   "source": [
    "# Start a database connection\n",
    "db = datapkg.MySQLConnection(\n",
    "    connection_string=db_daemon.get_connection_string(os.environ['DB_SCHEMA']),\n",
    "    shared_folder=os.environ['DB_TEMPDIR'],\n",
    "    storage_host=None,\n",
    "    datadir=db_daemon.datadir,\n",
    "    echo=False,\n",
    "    db_engine='MyISAM',\n",
    ")"
   ]
  },
  {
   "cell_type": "code",
   "execution_count": 6,
   "metadata": {
    "collapsed": true
   },
   "outputs": [],
   "source": [
    "# Start a database connection\n",
    "db_remote = datapkg.MySQLConnection(\n",
    "    os.environ['DATAPKG_CONNECTION_STRING'], \n",
    "    shared_folder=os.environ['DB_TEMPDIR'],\n",
    "    storage_host=None,\n",
    "    datadir=None,\n",
    "    echo=False,\n",
    "    db_engine='MyISAM'\n",
    ")"
   ]
  }
 ],
 "metadata": {
  "anaconda-cloud": {},
  "kernelspec": {
   "display_name": "Python [Root]",
   "language": "python",
   "name": "Python [Root]"
  },
  "language_info": {
   "codemirror_mode": {
    "name": "ipython",
    "version": 3
   },
   "file_extension": ".py",
   "mimetype": "text/x-python",
   "name": "python",
   "nbconvert_exporter": "python",
   "pygments_lexer": "ipython3",
   "version": "3.5.2"
  },
  "nav_menu": {},
  "toc": {
   "navigate_menu": true,
   "number_sections": true,
   "sideBar": false,
   "threshold": 6,
   "toc_cell": false,
   "toc_section_display": "block",
   "toc_window_display": true
  },
  "toc_position": {
   "height": "310px",
   "left": "116.997px",
   "right": "20px",
   "top": "77.9861px",
   "width": "230px"
  }
 },
 "nbformat": 4,
 "nbformat_minor": 0
}
